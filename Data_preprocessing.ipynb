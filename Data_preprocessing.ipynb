{
  "nbformat": 4,
  "nbformat_minor": 0,
  "metadata": {
    "colab": {
      "provenance": [],
      "gpuType": "T4"
    },
    "kernelspec": {
      "name": "python3",
      "display_name": "Python 3"
    },
    "language_info": {
      "name": "python"
    },
    "accelerator": "GPU"
  },
  "cells": [
    {
      "cell_type": "code",
      "execution_count": null,
      "metadata": {
        "colab": {
          "base_uri": "https://localhost:8080/"
        },
        "id": "79CKgu92qfl0",
        "outputId": "df86e19f-4152-45ae-d04b-9356fb6f9fbb"
      },
      "outputs": [
        {
          "output_type": "stream",
          "name": "stdout",
          "text": [
            "Mounted at /content/drive\n",
            "['dog', 'cat']\n",
            "[0 1]\n",
            "{'dog': np.int64(0), 'cat': np.int64(1)}\n"
          ]
        }
      ],
      "source": [
        "import os\n",
        "import numpy as np\n",
        "\n",
        "from google.colab import drive\n",
        "drive.mount('/content/drive')\n",
        "\n",
        "import pandas as pd\n",
        "data_path=(r'/content/drive/My Drive/animal')\n",
        "\n",
        "categories=os.listdir(data_path) #this is used to show the files names in the datapath\n",
        "print(categories)\n",
        "labels=np.arange(len(categories))\n",
        "print(labels)\n",
        "label_dict=dict(zip(categories,labels))\n",
        "print(label_dict)"
      ]
    },
    {
      "cell_type": "code",
      "source": [
        "import cv2\n",
        "img_size=50\n",
        "\n",
        "data=[]\n",
        "target=[]\n",
        "\n",
        "for category in categories:\n",
        "  imgs_path=os.path.join(data_path,category)\n",
        "  img_names=os.listdir(imgs_path)\n",
        "  #print(img_names)\n",
        "\n",
        "  for img_name in img_names:\n",
        "    img_path=os.path.join(imgs_path,img_name)\n",
        "    try:\n",
        "      img=cv2.imread(img_path)\n",
        "      img=cv2.cvtColor(img,cv2.COLOR_BGR2GRAY)\n",
        "      img=cv2.resize(img,(img_size,img_size))\n",
        "\n",
        "      data.append(img)\n",
        "      target.append(label_dict[category])\n",
        "\n",
        "    except Exception as e:\n",
        "      print(img_path,e)\n",
        "      continue\n",
        "\n"
      ],
      "metadata": {
        "id": "vb_c309sraG6"
      },
      "execution_count": null,
      "outputs": []
    },
    {
      "cell_type": "code",
      "source": [
        "data_new= np.array(data)\n",
        "terget= np.array(target)\n",
        "\n",
        "print(data_new.shape)\n",
        "print(terget.shape)\n"
      ],
      "metadata": {
        "colab": {
          "base_uri": "https://localhost:8080/"
        },
        "id": "506_aLH3VW3e",
        "outputId": "57691b2d-8480-4836-e5ff-f838b7be73ff"
      },
      "execution_count": null,
      "outputs": [
        {
          "output_type": "stream",
          "name": "stdout",
          "text": [
            "(4000, 50, 50)\n",
            "(4000,)\n"
          ]
        }
      ]
    },
    {
      "cell_type": "code",
      "source": [
        "from matplotlib import pyplot as plt\n",
        "plt.imshow(data_new[3000],cmap='gray')\n",
        "plt.show()"
      ],
      "metadata": {
        "colab": {
          "base_uri": "https://localhost:8080/",
          "height": 432
        },
        "id": "p2LuJ00qVsBA",
        "outputId": "270ab954-5bfd-4867-8350-b28c46e15132"
      },
      "execution_count": null,
      "outputs": [
        {
          "output_type": "display_data",
          "data": {
            "text/plain": [
              "<Figure size 640x480 with 1 Axes>"
            ],
            "image/png": "[encoded data removed]"
          },
          "metadata": {}
        }
      ]
    },
    {
      "cell_type": "code",
      "source": [
        "data_new = data_new.reshape(data_new.shape[0],img_size,img_size,1) #converting to 4D, CNN needs 4D inputs\n",
        "print(data_new.shape)"
      ],
      "metadata": {
        "colab": {
          "base_uri": "https://localhost:8080/"
        },
        "id": "2HFlJjbtV-Ag",
        "outputId": "ce4684e8-a747-4d6e-fce3-4cc7996ad603"
      },
      "execution_count": null,
      "outputs": [
        {
          "output_type": "stream",
          "name": "stdout",
          "text": [
            "(4000, 50, 50, 1)\n"
          ]
        }
      ]
    },
    {
      "cell_type": "code",
      "source": [
        "#normalizing/scaling\n",
        "\n",
        "data_new=data_new/255.0\n",
        "from keras.utils import to_categorical\n",
        "new_target=to_categorical(terget)\n",
        "print(new_target.shape)"
      ],
      "metadata": {
        "colab": {
          "base_uri": "https://localhost:8080/"
        },
        "id": "QjhMjuYnW6GL",
        "outputId": "71d2ed78-8f70-4ded-bbc8-13f95e2cca7a"
      },
      "execution_count": null,
      "outputs": [
        {
          "output_type": "stream",
          "name": "stdout",
          "text": [
            "(4000, 2)\n"
          ]
        }
      ]
    },
    {
      "cell_type": "code",
      "source": [
        "np.save('data',data_new)\n",
        "np.save('target',new_target)"
      ],
      "metadata": {
        "id": "qsxtELViYKVC"
      },
      "execution_count": null,
      "outputs": []
    }
  ]
}