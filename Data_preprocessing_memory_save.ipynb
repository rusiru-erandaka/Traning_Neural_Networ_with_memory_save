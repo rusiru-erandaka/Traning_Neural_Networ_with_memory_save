{
  "cells": [
    {
      "cell_type": "code",
      "execution_count": null,
      "metadata": {
        "colab": {
          "base_uri": "https://localhost:8080/"
        },
        "id": "G3pfCR7bAe-i",
        "outputId": "70cc1dd9-94aa-4316-da2e-fe0117f58436"
      },
      "outputs": [
        {
          "name": "stdout",
          "output_type": "stream",
          "text": [
            "Drive already mounted at /content/drive; to attempt to forcibly remount, call drive.mount(\"/content/drive\", force_remount=True).\n",
            "['dog', 'cat']\n",
            "[0 1]\n",
            "{'dog': np.int64(0), 'cat': np.int64(1)}\n"
          ]
        }
      ],
      "source": [
        "import os\n",
        "import numpy as np\n",
        "\n",
        "from google.colab import drive\n",
        "drive.mount('/content/drive')\n",
        "\n",
        "import pandas as pd\n",
        "data_path=(r'/content/drive/My Drive/animal')\n",
        "\n",
        "categories=os.listdir(data_path) #load the images using its directory names\n",
        "print(categories)\n",
        "labels=np.arange(len(categories))\n",
        "print(labels)\n",
        "label_dict=dict(zip(categories,labels))\n",
        "print(label_dict)"
      ]
    },
    {
      "cell_type": "code",
      "execution_count": 4,
      "metadata": {
        "id": "AW6SxaEYAe-m",
        "scrolled": true
      },
      "outputs": [],
      "source": [
        "import cv2\n",
        "\n",
        "img_size=50\n",
        "\n",
        "data=[]\n",
        "target=[]\n",
        "\n",
        "for category in categories:\n",
        "\n",
        "    imgs_path=os.path.join(data_path,category)\n",
        "    #print(imgs_path)\n",
        "    img_names=os.listdir(imgs_path)\n",
        "    #print(img_names)\n",
        "\n",
        "    for img_name in img_names:\n",
        "        img_path=os.path.join(imgs_path,img_name)\n",
        "        #print(img_path)\n",
        "        try:\n",
        "\n",
        "            img=cv2.imread(img_path)\n",
        "            img=cv2.resize(img,(img_size,img_size))\n",
        "            #img=cv2.cvtColor(img,cv2.COLOR_BGR2GRAY)\n",
        "\n",
        "            data.append(img_path)\n",
        "            target.append(label_dict[category])\n",
        "\n",
        "        except Exception as e:\n",
        "\n",
        "            print(e)\n",
        "\n",
        "        #cv2.imshow('LIVE',img)\n",
        "        #k=cv2.waitKey(1000)\n",
        "        #if(k==27):\n",
        "        #    break\n",
        "#cv2.destroyAllWindows()"
      ]
    },
    {
      "cell_type": "code",
      "execution_count": 5,
      "metadata": {
        "id": "kGRf9UwvAe-n"
      },
      "outputs": [],
      "source": [
        "data_new=np.array(data)\n",
        "target_new=np.array(target)"
      ]
    },
    {
      "cell_type": "code",
      "execution_count": 6,
      "metadata": {
        "colab": {
          "base_uri": "https://localhost:8080/"
        },
        "id": "SwOXKU29Ae-p",
        "outputId": "4ff3f7ab-3b39-4be6-ab8c-d60e8ce047fb"
      },
      "outputs": [
        {
          "name": "stdout",
          "output_type": "stream",
          "text": [
            "(4000,)\n",
            "(4000,)\n"
          ]
        }
      ],
      "source": [
        "print(data_new.shape)\n",
        "print(target_new.shape)"
      ]
    },
    {
      "cell_type": "code",
      "execution_count": 7,
      "metadata": {
        "colab": {
          "base_uri": "https://localhost:8080/",
          "height": 34
        },
        "id": "ITfnzkRhAe-r",
        "outputId": "c00025ac-6d89-41b9-f705-e97c78969092"
      },
      "outputs": [
        {
          "data": {
            "application/vnd.google.colaboratory.intrinsic+json": {
              "type": "string"
            },
            "text/plain": [
              "np.str_('/content/drive/My Drive/animal/dog/keeshond_68.jpg')"
            ]
          },
          "execution_count": 7,
          "metadata": {},
          "output_type": "execute_result"
        }
      ],
      "source": [
        "data_new[0]"
      ]
    },
    {
      "cell_type": "code",
      "execution_count": 8,
      "metadata": {
        "colab": {
          "base_uri": "https://localhost:8080/"
        },
        "id": "miRBPqniAe-s",
        "outputId": "1a591da3-493d-465d-9c48-09c8c35c3075"
      },
      "outputs": [
        {
          "data": {
            "text/plain": [
              "np.int64(0)"
            ]
          },
          "execution_count": 8,
          "metadata": {},
          "output_type": "execute_result"
        }
      ],
      "source": [
        "target_new[0]"
      ]
    },
    {
      "cell_type": "code",
      "execution_count": 9,
      "metadata": {
        "id": "mytMNou9Ae-t"
      },
      "outputs": [],
      "source": [
        "from keras import utils\n",
        "\n",
        "target_new=utils.to_categorical(target_new)"
      ]
    },
    {
      "cell_type": "code",
      "execution_count": null,
      "metadata": {
        "id": "ndCgLbglAe-u"
      },
      "outputs": [],
      "source": [
        "np.save('data-memory-save',data_new) #save the both models\n",
        "np.save('target-memory-save',target_new)"
      ]
    },
    {
      "cell_type": "code",
      "execution_count": null,
      "metadata": {
        "id": "3nOuljFhAe-u"
      },
      "outputs": [],
      "source": []
    }
  ],
  "metadata": {
    "colab": {
      "provenance": []
    },
    "kernelspec": {
      "display_name": "Python 3 (ipykernel)",
      "language": "python",
      "name": "python3"
    },
    "language_info": {
      "codemirror_mode": {
        "name": "ipython",
        "version": 3
      },
      "file_extension": ".py",
      "mimetype": "text/x-python",
      "name": "python",
      "nbconvert_exporter": "python",
      "pygments_lexer": "ipython3",
      "version": "3.11.4"
    }
  },
  "nbformat": 4,
  "nbformat_minor": 0
}
